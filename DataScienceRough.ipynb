{
 "cells": [
  {
   "cell_type": "code",
   "execution_count": 1,
   "id": "9d6a7ae6-729f-4f44-b3fc-c31f32da6a5a",
   "metadata": {},
   "outputs": [],
   "source": [
    "import argparse"
   ]
  },
  {
   "cell_type": "code",
   "execution_count": 7,
   "id": "b97fc076-5864-4f36-a483-5bf57d261b31",
   "metadata": {},
   "outputs": [],
   "source": [
    "parser = argparse.ArgumentParser()"
   ]
  },
  {
   "cell_type": "code",
   "execution_count": 8,
   "id": "9590f896-a0e7-4412-814a-2f6c459da812",
   "metadata": {},
   "outputs": [
    {
     "data": {
      "text/plain": [
       "_StoreAction(option_strings=['--dummy'], dest='dummy', nargs=None, const=None, default=True, type=None, choices=None, required=False, help='Dummy', metavar=None)"
      ]
     },
     "execution_count": 8,
     "metadata": {},
     "output_type": "execute_result"
    }
   ],
   "source": [
    "parser.add_argument(\"--dummy\",help=\"Dummy\",default=True)"
   ]
  },
  {
   "cell_type": "code",
   "execution_count": 10,
   "id": "147509cc-006e-4214-bf67-10c09f8b8855",
   "metadata": {},
   "outputs": [
    {
     "name": "stderr",
     "output_type": "stream",
     "text": [
      "usage: ipykernel_launcher.py [-h] [--dummy DUMMY]\n",
      "ipykernel_launcher.py: error: unrecognized arguments: -f /Users/gtk/Library/Jupyter/runtime/kernel-809bd490-9f04-4603-a46f-cbfd42940224.json\n"
     ]
    },
    {
     "ename": "SystemExit",
     "evalue": "2",
     "output_type": "error",
     "traceback": [
      "An exception has occurred, use %tb to see the full traceback.\n",
      "\u001b[0;31mSystemExit\u001b[0m\u001b[0;31m:\u001b[0m 2\n"
     ]
    }
   ],
   "source": []
  },
  {
   "cell_type": "code",
   "execution_count": null,
   "id": "311b4422-dde9-4d19-a80c-7d17597952e9",
   "metadata": {},
   "outputs": [],
   "source": []
  }
 ],
 "metadata": {
  "kernelspec": {
   "display_name": "Python 3 (ipykernel)",
   "language": "python",
   "name": "python3"
  },
  "language_info": {
   "codemirror_mode": {
    "name": "ipython",
    "version": 3
   },
   "file_extension": ".py",
   "mimetype": "text/x-python",
   "name": "python",
   "nbconvert_exporter": "python",
   "pygments_lexer": "ipython3",
   "version": "3.11.3"
  }
 },
 "nbformat": 4,
 "nbformat_minor": 5
}
